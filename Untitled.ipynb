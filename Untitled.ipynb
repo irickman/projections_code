{
 "cells": [
  {
   "cell_type": "code",
   "execution_count": 2,
   "metadata": {},
   "outputs": [],
   "source": [
    "from pybaseball import schedule_and_record,playerid_reverse_lookup, statcast"
   ]
  },
  {
   "cell_type": "code",
   "execution_count": 3,
   "metadata": {},
   "outputs": [
    {
     "name": "stdout",
     "output_type": "stream",
     "text": [
      "This is a large query, it may take a moment to complete\n"
     ]
    },
    {
     "name": "stderr",
     "output_type": "stream",
     "text": [
      "100%|██████████| 4/4 [00:07<00:00,  1.82s/it]\n"
     ]
    },
    {
     "name": "stdout",
     "output_type": "stream",
     "text": [
      "Gathering player lookup table. This may take a moment.\n"
     ]
    }
   ],
   "source": [
    "od='2021-05-13'\n",
    "yd='2021-05-10'\n",
    "new_d=statcast(od,yd)\n",
    "new_data=new_d[new_d.events.notnull()]\n",
    "players_ids=playerid_reverse_lookup(new_data.batter.unique())"
   ]
  },
  {
   "cell_type": "code",
   "execution_count": 5,
   "metadata": {},
   "outputs": [],
   "source": [
    "id_df=players_ids[['name_last','name_first','key_mlbam']]\n",
    "df=new_data.merge(id_df, how = 'left',left_on='batter',right_on='key_mlbam')"
   ]
  },
  {
   "cell_type": "code",
   "execution_count": 6,
   "metadata": {},
   "outputs": [],
   "source": [
    "df.drop_duplicates(inplace=True)"
   ]
  },
  {
   "cell_type": "code",
   "execution_count": 8,
   "metadata": {},
   "outputs": [],
   "source": [
    "df['hit']=df.events.apply(lambda x: 1 if x in [\"single\",'double','home_run','triple'] else 0)\n",
    "df['ab']=df.events.apply(lambda x: 0 if x in ['walk','hit_by_pitch',\"caught_stealing_2b\",\"pickoff_caught_stealing_2b\",'pickoff_1b','catcher_interf','pickoff_caught_stealing_3b','pickoff_2b','pickoff_caught_stealing_home','caught_stealing_3b','caught_stealing_home',\"sac_fly\",'sac_bunt','sac_fly_double_play','sac_bunt_double_play'] else 1)\n",
    "df['player_team']=df.apply(lambda x: x.home_team if x.inning_topbot==\"Bot\" else x.away_team,axis=1)\n",
    "df['Opp']=df.apply(lambda x: x.away_team if x.inning_topbot==\"Bot\" else x.home_team,axis=1)\n",
    "df['Place']=df.apply(lambda x: \"Home\" if x.inning_topbot==\"Bot\" else \"Away\",axis=1)\n",
    "teams=df.player_team.unique()\n",
    "fixers={\"WSH\":\"WSN\",\"CWS\":\"CHW\"}\n",
    "teams_fixed=[x if x not in fixers.keys() else fixers[x] for x in teams]"
   ]
  },
  {
   "cell_type": "code",
   "execution_count": null,
   "metadata": {},
   "outputs": [],
   "source": []
  }
 ],
 "metadata": {
  "kernelspec": {
   "display_name": "Python 3",
   "language": "python",
   "name": "python3"
  },
  "language_info": {
   "codemirror_mode": {
    "name": "ipython",
    "version": 3
   },
   "file_extension": ".py",
   "mimetype": "text/x-python",
   "name": "python",
   "nbconvert_exporter": "python",
   "pygments_lexer": "ipython3",
   "version": "3.8.5"
  }
 },
 "nbformat": 4,
 "nbformat_minor": 4
}
